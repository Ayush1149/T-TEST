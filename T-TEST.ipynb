{
 "cells": [
  {
   "cell_type": "code",
   "execution_count": 16,
   "metadata": {},
   "outputs": [
    {
     "name": "stdout",
     "output_type": "stream",
     "text": [
      "T-Statistic: -inf\n",
      "P-Value: 0.0\n",
      "Reject the null hypothesis: The mean weight is significantly different from 50g.\n"
     ]
    }
   ],
   "source": [
    "import scipy.stats as stats\n",
    "\n",
    "# Given data\n",
    "sample_mean = 48\n",
    "population_mean = 50\n",
    "sample_std = 2  # Assumed standard deviation\n",
    "n = 30  # Sample size\n",
    "\n",
    "# Perform one-sample t-test\n",
    "t_stat, p_value = stats.ttest_1samp(a=[48]*30, popmean=50)\n",
    "\n",
    "# Print results\n",
    "print(f\"T-Statistic: {t_stat:.4f}\")\n",
    "print(f\"P-Value: {p_value:}\")\n",
    "\n",
    "# Interpretation\n",
    "alpha = 0.05  # Significance level\n",
    "if p_value < alpha:\n",
    "    print(\"Reject the null hypothesis: The mean weight is significantly different from 50g.\")\n",
    "else:\n",
    "    print(\"Fail to reject the null hypothesis: No significant difference from 50g.\")\n"
   ]
  },
  {
   "cell_type": "code",
   "execution_count": 18,
   "metadata": {},
   "outputs": [
    {
     "name": "stdout",
     "output_type": "stream",
     "text": [
      "T-Statistic: -5.7679\n",
      "P-Value: 0.000003\n",
      "Reject the null hypothesis: The mean weight is significantly different from 50g.\n"
     ]
    }
   ],
   "source": [
    "import scipy.stats as stats\n",
    "\n",
    "# Given data\n",
    "claimed_mean = 50  # Population mean (claimed weight)\n",
    "\n",
    "# Realistic sample weights (30 bars)\n",
    "sample_weights = [49.2, 50.1, 48.5, 49.8, 47.9, 50.3, 48.7, 49.1, 50.0, 48.3,\n",
    "                  49.5, 47.8, 50.6, 48.9, 49.4, 48.1, 49.2, 50.2, 48.6, 47.5,\n",
    "                  48.4, 49.0, 50.5, 48.2, 49.8, 47.6, 50.1, 48.7, 49.3, 48.0]\n",
    "\n",
    "# Perform one-sample t-test\n",
    "t_stat, p_value = stats.ttest_1samp(sample_weights, claimed_mean)\n",
    "\n",
    "# Print results\n",
    "print(f\"T-Statistic: {t_stat:.4f}\")\n",
    "print(f\"P-Value: {p_value:4F}\")\n",
    "\n",
    "# Interpretation\n",
    "alpha = 0.05  # 5% significance level\n",
    "if p_value < alpha:\n",
    "    print(\"Reject the null hypothesis: The mean weight is significantly different from 50g.\")\n",
    "else:\n",
    "    print(\"Fail to reject the null hypothesis: No significant difference from 50g.\")\n"
   ]
  },
  {
   "cell_type": "markdown",
   "metadata": {},
   "source": [
    "PAIRED T-TEST\n"
   ]
  },
  {
   "cell_type": "code",
   "execution_count": 4,
   "metadata": {},
   "outputs": [
    {
     "name": "stdout",
     "output_type": "stream",
     "text": [
      "T-Statistic: 91.0000\n",
      "P-Value: 0.0000\n",
      "Reject the null hypothesis: The diet had a significant effect on weight.\n"
     ]
    }
   ],
   "source": [
    "import scipy.stats as stats\n",
    "import numpy as np\n",
    "\n",
    "# Sample data: weights before and after the diet (30 individuals)\n",
    "weights_before = [85, 78, 92, 88, 76, 95, 89, 84, 90, 80,\n",
    "                  87, 79, 91, 85, 77, 94, 88, 83, 89, 79,\n",
    "                  86, 81, 90, 86, 78, 93, 87, 82, 88, 80]\n",
    "\n",
    "weights_after = [82, 75, 88, 85, 73, 92, 86, 81, 87, 77,\n",
    "                 84, 76, 88, 82, 74, 91, 85, 80, 86, 76,\n",
    "                 83, 78, 87, 83, 75, 90, 84, 79, 85, 77]\n",
    "\n",
    "# Perform paired t-test\n",
    "t_stat, p_value = stats.ttest_rel(weights_before, weights_after)\n",
    "\n",
    "# Print results\n",
    "print(f\"T-Statistic: {t_stat:.4f}\")\n",
    "print(f\"P-Value: {p_value:.4f}\")\n",
    "\n",
    "# Interpretation\n",
    "alpha = 0.05  # 5% significance level\n",
    "if p_value < alpha:\n",
    "    print(\"Reject the null hypothesis: The diet had a significant effect on weight.\")\n",
    "else:\n",
    "    print(\"Fail to reject the null hypothesis: No significant weight change due to the diet.\")\n"
   ]
  },
  {
   "cell_type": "code",
   "execution_count": 9,
   "metadata": {},
   "outputs": [
    {
     "data": {
      "image/png": "[encoded data removed]",
      "text/plain": [
       "<Figure size 1000x500 with 1 Axes>"
      ]
     },
     "metadata": {},
     "output_type": "display_data"
    }
   ],
   "source": [
    "import numpy as np\n",
    "import matplotlib.pyplot as plt\n",
    "import seaborn as sns\n",
    "\n",
    "# Sample data: weights before and after the diet (30 individuals)\n",
    "weights_before = [85, 78, 92, 88, 76, 95, 89, 84, 90, 80,\n",
    "                  87, 79, 91, 85, 77, 94, 88, 83, 89, 79,\n",
    "                  86, 81, 90, 86, 78, 93, 87, 82, 88, 80]\n",
    "\n",
    "weights_after = [82, 75, 88, 85, 73, 92, 86, 81, 87, 77,\n",
    "                 84, 76, 88, 82, 74, 91, 85, 80, 86, 76,\n",
    "                 83, 78, 87, 83, 75, 90, 84, 79, 85, 77]\n",
    "\n",
    "# Create a box plot\n",
    "plt.figure(figsize=(10, 5))\n",
    "sns.boxplot(data=[weights_before, weights_after], palette=[\"blue\", \"red\"])\n",
    "plt.xticks([0, 1], [\"Before Diet\", \"After Diet\"])\n",
    "plt.ylabel(\"Weight (kg)\")\n",
    "plt.title(\"Weight Distribution Before and After Diet\")\n",
    "plt.grid(True)\n",
    "plt.show()"
   ]
  },
  {
   "cell_type": "markdown",
   "metadata": {},
   "source": [
    "calculating AB TESTING\n"
   ]
  },
  {
   "cell_type": "code",
   "execution_count": 19,
   "metadata": {},
   "outputs": [
    {
     "name": "stdout",
     "output_type": "stream",
     "text": [
      "Conversion Rate A: 20.00%\n",
      "Conversion Rate B: 25.00%\n",
      "Z-Score: 2.6822\n",
      "P-Value: 0.0073\n",
      "Reject the null hypothesis: Version B performs significantly different than Version A.\n"
     ]
    }
   ],
   "source": [
    "import scipy.stats as stats\n",
    "\n",
    "# Given data\n",
    "conversions_A = 200  # Conversions in group A\n",
    "conversions_B = 250  # Conversions in group B\n",
    "visitors_A = 1000  # Total visitors in group A\n",
    "visitors_B = 1000  # Total visitors in group B\n",
    "\n",
    "# Conversion rates\n",
    "p_A = conversions_A / visitors_A\n",
    "p_B = conversions_B / visitors_B\n",
    "\n",
    "# Standard error calculation\n",
    "se_A = (p_A * (1 - p_A) / visitors_A) ** 0.5\n",
    "se_B = (p_B * (1 - p_B) / visitors_B) ** 0.5\n",
    "\n",
    "# Z-score calculation\n",
    "z_score = (p_B - p_A) / ((se_A**2 + se_B**2) ** 0.5)\n",
    "\n",
    "# Compute p-value (two-tailed test)\n",
    "p_value = 2 * (1 - stats.norm.cdf(abs(z_score)))\n",
    "\n",
    "# Print results\n",
    "print(f\"Conversion Rate A: {p_A:.2%}\")\n",
    "print(f\"Conversion Rate B: {p_B:.2%}\")\n",
    "print(f\"Z-Score: {z_score:.4f}\")\n",
    "print(f\"P-Value: {p_value:.4f}\")\n",
    "\n",
    "# Interpretation\n",
    "alpha = 0.05  # 5% significance level\n",
    "if p_value < alpha:\n",
    "    print(\"Reject the null hypothesis: Version B performs significantly different than Version A.\")\n",
    "else:\n",
    "    print(\"Fail to reject the null hypothesis: No significant difference between A and B.\")\n"
   ]
  },
  {
   "cell_type": "code",
   "execution_count": null,
   "metadata": {},
   "outputs": [],
   "source": []
  }
 ],
 "metadata": {
  "kernelspec": {
   "display_name": "Python 3",
   "language": "python",
   "name": "python3"
  },
  "language_info": {
   "codemirror_mode": {
    "name": "ipython",
    "version": 3
   },
   "file_extension": ".py",
   "mimetype": "text/x-python",
   "name": "python",
   "nbconvert_exporter": "python",
   "pygments_lexer": "ipython3",
   "version": "3.13.2"
  }
 },
 "nbformat": 4,
 "nbformat_minor": 2
}
